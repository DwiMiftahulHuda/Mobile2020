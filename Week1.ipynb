{
  "nbformat": 4,
  "nbformat_minor": 0,
  "metadata": {
    "colab": {
      "name": "Week1.ipynb",
      "provenance": [],
      "collapsed_sections": [],
      "authorship_tag": "ABX9TyMveWCrPfypgEhwp1yWeteu",
      "include_colab_link": true
    },
    "kernelspec": {
      "name": "python3",
      "display_name": "Python 3"
    }
  },
  "cells": [
    {
      "cell_type": "markdown",
      "metadata": {
        "id": "view-in-github",
        "colab_type": "text"
      },
      "source": [
        "<a href=\"https://colab.research.google.com/github/DwiMiftahulHuda/Mobile2020/blob/master/Week1.ipynb\" target=\"_parent\"><img src=\"https://colab.research.google.com/assets/colab-badge.svg\" alt=\"Open In Colab\"/></a>"
      ]
    },
    {
      "cell_type": "code",
      "metadata": {
        "id": "WfuP3__uvNmB"
      },
      "source": [
        "import numpy as np\r\n",
        "import pandas as pd\r\n",
        "import cv2 as cv\r\n",
        "from google.colab.patches import cv2_imshow # for image display\r\n",
        "from skimage import io\r\n",
        "from skimage import transform\r\n",
        "from PIL import Image\r\n",
        "import matplotlib.pylab as plt"
      ],
      "execution_count": 25,
      "outputs": []
    },
    {
      "cell_type": "code",
      "metadata": {
        "id": "y_VPRMa3AxON"
      },
      "source": [
        "image_2 = cv.cvtColor(image, cv.COLOR_BGR2RGB)\r\n",
        "image_3 = cv.cvtColor(image, cv.COLOR_BGR2RGB)\r\n",
        "  #membuat garis horizontal ditengah image\r\n",
        "for y in range (lebar):\r\n",
        "  image_3[int((tinggi)/2),y] = [255,255,255]\r\n",
        "final_frame = cv.hconcat((image_2, image_3))\r\n",
        "cv2_imshow(final_frame)\r\n"
      ],
      "execution_count": null,
      "outputs": []
    },
    {
      "cell_type": "code",
      "metadata": {
        "colab": {
          "base_uri": "https://localhost:8080/",
          "height": 135
        },
        "id": "6LRzVUvwAU5p",
        "outputId": "7f4bf72c-0c98-4354-8569-063909b86e6c"
      },
      "source": [
        "tinggi = image_2.shape[0]\r\n",
        "  lebar = image_2.shape[1]\r\n",
        "  print(\"resolusi image: image x lebar = \",tinggi,\" x \",lebar,)\r\n",
        "  cv2_imshow(image_2)"
      ],
      "execution_count": 31,
      "outputs": [
        {
          "output_type": "error",
          "ename": "IndentationError",
          "evalue": "ignored",
          "traceback": [
            "\u001b[0;36m  File \u001b[0;32m\"<ipython-input-31-199570a2f929>\"\u001b[0;36m, line \u001b[0;32m2\u001b[0m\n\u001b[0;31m    lebar = image_2.shape[1]\u001b[0m\n\u001b[0m    ^\u001b[0m\n\u001b[0;31mIndentationError\u001b[0m\u001b[0;31m:\u001b[0m unexpected indent\n"
          ]
        }
      ]
    },
    {
      "cell_type": "code",
      "metadata": {
        "id": "3Y1IHy6gAWk9"
      },
      "source": [
        ""
      ],
      "execution_count": null,
      "outputs": []
    },
    {
      "cell_type": "code",
      "metadata": {
        "id": "O29wXeVlAFa5"
      },
      "source": [
        "# Membuat list untuk menyimpan url dari beberapa image\r\n",
        "urls = [\"https://iiif.lib.ncsu.edu/iiif/0052574/full/800,/0/default.jpg\",\"https://iiif.lib.ncsu.edu/iiif/0016007/full/800,/0/default.jpg\",\"https://placekitten.com/800/571\"]\r\n",
        "# Tanda Baca Image\r\n",
        "# Loop pada tiap url image, beberapa image dapat di simpan pada list \r\n",
        "for url in urls:\r\n",
        "  image = io.imread(url)  #read image\r\n",
        "  image = cv.resize(image, (0,0), fx=0.5, fy=0.5) #resize image half size\r\n",
        "  image_2 = cv.cvtColor(image, cv.COLOR_BGR2RGB) #convert color to RGB\r\n",
        "  final_frame = cv.hconcat((image, image_2))  #contactenate image\r\n",
        "  cv2_imshow(final_frame)\r\n",
        "  print('\\n')"
      ],
      "execution_count": null,
      "outputs": []
    }
  ]
}